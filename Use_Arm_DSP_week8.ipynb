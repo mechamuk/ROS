{
 "cells": [
  {
   "cell_type": "markdown",
   "metadata": {},
   "source": [
    "# Use Arm"
   ]
  },
  {
   "cell_type": "markdown",
   "metadata": {},
   "source": [
    "* github에서 패키지를 가져옴\n",
    "    * git clone https://github.com/ROBOTIS-GIT/turtlebot3_manipulation.git\n",
    "    * git clone https://github.com/ROBOTIS-GIT/turtlebot3_manipulation_simulations.git"
   ]
  },
  {
   "cell_type": "markdown",
   "metadata": {},
   "source": [
    "* 빌드 진행\n",
    "    * cd catkin_ws\n",
    "    * catkin_make"
   ]
  },
  {
   "cell_type": "markdown",
   "metadata": {},
   "source": [
    "* 가져온 패키지에 에러가 있어서 이를 수정함\n",
    "* turtlebot3_manipulation_simulations/turtlebot3_manipulation_gazebo/launch 에 있는 turtlebot3_manipulation_gazebo.launch 파일 수정\n",
    "    * 29행 끝부분 슬래시를 큰따옴표 밖으로 이동\n",
    "    * ~~~/turtlebot3_manipulation_controller.launch\"/>"
   ]
  },
  {
   "cell_type": "markdown",
   "metadata": {},
   "source": [
    "* 로봇 주행 및 arm control\n",
    "    * roslaunch turtlebot3_teleop turtlebot3_teleop_key.launch\n",
    "    * roslaunch turtlebot3_manipulation_moveit_config move_group.launch\n",
    "    * roslaunch turtlebot3_manipulation_gui turtlebot3_manipulation_gui.launch"
   ]
  },
  {
   "cell_type": "markdown",
   "metadata": {},
   "source": [
    "* roslaunch turtlebot3_manipulation_moveit_config moveit_rviz.launch"
   ]
  }
 ],
 "metadata": {
  "kernelspec": {
   "display_name": "Python 2",
   "language": "python",
   "name": "python2"
  },
  "language_info": {
   "codemirror_mode": {
    "name": "ipython",
    "version": 2
   },
   "file_extension": ".py",
   "mimetype": "text/x-python",
   "name": "python",
   "nbconvert_exporter": "python",
   "pygments_lexer": "ipython2",
   "version": "2.7.12"
  }
 },
 "nbformat": 4,
 "nbformat_minor": 2
}
