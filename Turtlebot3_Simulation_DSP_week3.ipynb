{
 "cells": [
  {
   "cell_type": "markdown",
   "metadata": {},
   "source": [
    "# turtlebot3 simulation\n",
    "    * Gazebo, RViz simulation"
   ]
  },
  {
   "cell_type": "markdown",
   "metadata": {},
   "source": [
    "## LiDAR\n",
    "* Light Detection and Ranging\n",
    "* in turtlebot, Laser Rangefinder\n",
    "* 물체로부터 반사되는 레이저 빔의 수신 시간을 측정하여 거리를 측정"
   ]
  },
  {
   "cell_type": "markdown",
   "metadata": {},
   "source": [
    "## SLAM\n",
    "* Simultaneous localization and Mapping\n",
    "* 지도를 만들것이 목표\n",
    "* 위치 정보와 센서 정보 통합\n",
    "* 실내:GPS\n",
    "* 실외:실내 GPS, WIFI, Beacon, DR(Dead reckoning, IMU와 같은 각속도 센서 값을 적분해서 어디에 있는지 파악)\n",
    "* 장애물 계측: 거리, 비전 센서, Depth Camera"
   ]
  },
  {
   "cell_type": "markdown",
   "metadata": {},
   "source": [
    "## RViz\n",
    "* 3D 시각화 툴 제공\n",
    "* 라이다, 카메라 등으 시네서 데이터 시각화\n",
    "* 로봇으 외형과 동작 구현"
   ]
  },
  {
   "cell_type": "markdown",
   "metadata": {},
   "source": [
    "## Gazebo\n",
    "* 물리 엔진을 탑재, 로봇, 센서, 환경 모델 등을 지원, 3차원 시뮬레이터"
   ]
  },
  {
   "cell_type": "markdown",
   "metadata": {},
   "source": [
    "# Gazebo와 RViz를 통한 simulation"
   ]
  },
  {
   "cell_type": "markdown",
   "metadata": {},
   "source": [
    "## Gazebo simalation with RViz"
   ]
  },
  {
   "cell_type": "markdown",
   "metadata": {},
   "source": [
    "* master 실행\n",
    "    * roslaunch turtlebot3_gazebo turtlebot3_world.launch"
   ]
  },
  {
   "cell_type": "markdown",
   "metadata": {},
   "source": [
    "* SLAM 기능 실행(새 터미널에서)\n",
    "    * ctrl + shift + t\n",
    "    * roslaunch turtlebot3_slam turtlebot3_slam.launch slam_methods:=gmapping"
   ]
  },
  {
   "cell_type": "markdown",
   "metadata": {},
   "source": [
    "* 키보드로 조작(새 터미널에서)\n",
    "* 만약 안된다면 catkin_ws에서 git clone 과정을 진행했는지 확인 + 빌드\n",
    "    * ctrl + shift + t\n",
    "    * roslaunch turtlebot3_teleop turtlebot3_teleop_key.launch"
   ]
  },
  {
   "cell_type": "markdown",
   "metadata": {},
   "source": [
    "## Gazebo simalation with Camera"
   ]
  },
  {
   "cell_type": "markdown",
   "metadata": {},
   "source": [
    "* master 실행\n",
    "    * roslaunch turtlebot3_gazebo turtlebot3_world.launch"
   ]
  },
  {
   "cell_type": "markdown",
   "metadata": {},
   "source": [
    "* 카메라로 조작\n",
    "    * roslaunch turtlebot3_gazebo turtlebot3_gazebo_rviz.launch"
   ]
  },
  {
   "cell_type": "markdown",
   "metadata": {},
   "source": [
    "## Fake simulation\n",
    "    * Gazebo나 실제 로봇 없이 RViz만 보는 것"
   ]
  },
  {
   "cell_type": "markdown",
   "metadata": {},
   "source": [
    "* master 실행\n",
    "    * roslaunch turtlebot3_fake turtlebot3_fake.launch"
   ]
  },
  {
   "cell_type": "markdown",
   "metadata": {},
   "source": [
    "* only RViz\n",
    "    * roslaunch turtlebot3_teleop turtlebot3_teleop_key.launch"
   ]
  },
  {
   "cell_type": "markdown",
   "metadata": {},
   "source": [
    "* HW. fake, SLAM 진행\n",
    "    * SLAM진행 할 때는 직진할 때는 직진만, 오른쪽 누르면 꺾이고 직진.\n",
    "    * 예비 보고서에 수정된 코드에 대한 분석\n",
    "    * 결과 코드 + 분석 + 동영상"
   ]
  },
  {
   "cell_type": "markdown",
   "metadata": {},
   "source": [
    "* 수정 후 검증할 때는\n",
    "    * catkin_ws 에서\n",
    "    * catkin_make 로 빌드 후\n",
    "    * SLAM 과정 진행"
   ]
  }
 ],
 "metadata": {
  "kernelspec": {
   "display_name": "Python 2",
   "language": "python",
   "name": "python2"
  },
  "language_info": {
   "codemirror_mode": {
    "name": "ipython",
    "version": 2
   },
   "file_extension": ".py",
   "mimetype": "text/x-python",
   "name": "python",
   "nbconvert_exporter": "python",
   "pygments_lexer": "ipython2",
   "version": "2.7.12"
  }
 },
 "nbformat": 4,
 "nbformat_minor": 2
}
