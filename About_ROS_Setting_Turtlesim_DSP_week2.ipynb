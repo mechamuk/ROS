{
 "cells": [
  {
   "cell_type": "markdown",
   "metadata": {},
   "source": [
    "# ROS 소개"
   ]
  },
  {
   "cell_type": "markdown",
   "metadata": {},
   "source": [
    "## ROS 특징\n",
    "* 통신 기능.노드 간 데이터 통신. 메시지 파싱과 기록, 재생\n",
    "* 로봇 관련 다양한 기능.기술 언어, 진단 시스템, 센싱, 인식, 네이게이션, 매니퓰레이터\n",
    "* 다양한 개발 도구. Command-Line Tools, RViz, RQT, Gazebo"
   ]
  },
  {
   "cell_type": "markdown",
   "metadata": {},
   "source": [
    "## ROS 용어\n",
    "* Node. 최소 단위의 실행가는한 프로세서(프로그램)\n",
    "* Package. 여러 노드 묶음\n",
    "* Message. 노드간 데이터 주고받는 도구, 변수 형태\n",
    "* Master. 노드 사이의 연결, 메시지 통신을 위핸 메인 서버\n",
    "* Topic. Message의 이름, 주제로써 토픽을 마스터에 등록하고 해당 토픽으로 메시지 보냄\n",
    "* Publisher.데이터 송신을 위해 자신의 정보를 마스터에 등록 및 송신 수행, 하나의 노드에 복수 선언 가능\n",
    "* Subscriber.데이터 수신을 위해 자신의 정보를 마스터에 등록 및 수신 수행, 하나의 노드에 복수 선언 가능"
   ]
  },
  {
   "cell_type": "markdown",
   "metadata": {},
   "source": [
    "## ROS 개발도\n",
    "* Command Line Tools. GUI없이 ROS에서 제공되는 명령어로 ROS 기능 소화\n",
    "* RViz. 3D 시각화툴 제공, 라이다, 카메라 등의 센서 데이터 시각화, 로봇의 외형과 동작 구현\n",
    "* RQT. 플러그인 방식의 종합 GUI툴, Gazebo, 물리 엔진을 탑재, 로봇, 센서, 환경 모델 등을 지원, 3차원 시뮬레이터"
   ]
  },
  {
   "cell_type": "markdown",
   "metadata": {},
   "source": [
    "# setting turtlebot3"
   ]
  },
  {
   "cell_type": "markdown",
   "metadata": {},
   "source": [
    "* ctrl + alt + t 로 터미널 실행\n",
    "* 새로운 프로그램 설치할 때마다 이 작업 진행\n",
    "    * sudo apt-get update\t\t#패키지들의 새로운 버전 있는지 확인\n",
    "    * sudo apt-get upgrade\t#버전에 따라 프로그램을 업그레이드"
   ]
  },
  {
   "cell_type": "markdown",
   "metadata": {},
   "source": [
    "* 다음 사이트에서 정보를 가져옴\n",
    "* wget은 웹파일을 다운로드 받을 때 사용\n",
    "    * wget https://raw.githubusercontent.com/ROBOTIS-GIT/robotis_tools/master/install_ros_kinetic.sh && chmod 755 ./install_ros_kinetic.sh&& bash ./install_ros_kinetic.sh"
   ]
  },
  {
   "cell_type": "markdown",
   "metadata": {},
   "source": [
    "* 바이너리 설치. 빌드되어있는 패키지들 다운\n",
    "    * sudo apt-get install ros-kinetic-joy ros-kinetic-teleop-twist-joy ros-kinetic-teleop-twist-keyboard ros-kinetic-laser-proc ros-kinetic-rgbd-launch ros-kinetic-depthimage-to-laserscan ros-kinetic-rosserial-arduino ros-kinetic-rosserial-python ros-kinetic-rosserial-server ros-kinetic-rosserial-client ros-kinetic-rosserial-msgs ros-kinetic-amcl ros-kinetic-map-server ros-kinetic-move-base ros-kinetic-urdf ros-kinetic-xacro ros-kinetic-compressed-image-transport ros-kinetic-rqt-image-view ros-kinetic-gmapping ros-kinetic-navigation ros-kinetic-interactive-markers"
   ]
  },
  {
   "cell_type": "markdown",
   "metadata": {},
   "source": [
    "* cd catkin_ws/src로 이동해서 다음 작업 진행\n",
    "* github에서 패키지를 가져옴\n",
    "* 빌드가 안되어있어서 빌드해줘야함\n",
    "    * git clone https://github.com/ROBOTIS-GIT/turtlebot3.git\n",
    "    * git clone https://github.com/ROBOTIS-GIT/turtlebot3_msgs.git\n",
    "    * git clone https://github.com/ROBOTIS-GIT/turtlebot3_simulations.git"
   ]
  },
  {
   "cell_type": "markdown",
   "metadata": {},
   "source": [
    "* 빌드 진행\n",
    "    * cd catkin_ws\n",
    "    * catkin_make"
   ]
  },
  {
   "cell_type": "markdown",
   "metadata": {},
   "source": [
    "* turtlebot3_teleop_key 위치\n",
    "    * catkin_ws/src/turtlebot3/turtlebot3_teleop/nodes/turtlebot3_teleop_key"
   ]
  },
  {
   "cell_type": "markdown",
   "metadata": {},
   "source": [
    "* ip주소 확인\n",
    "    * ifconfig"
   ]
  },
  {
   "cell_type": "markdown",
   "metadata": {},
   "source": [
    "* ip주소와 필요한 내용 작성\n",
    "* localhost->(자신의 ip주소)\n",
    "* 아래(export~)의 내용을 파일에 추가하고 저장\n",
    "* export TURTLEBOT3_MODEL=waffle_pi\n",
    "    * gedit ~/.bachrc\n",
    "    * source ~/.bashrc"
   ]
  },
  {
   "cell_type": "markdown",
   "metadata": {},
   "source": [
    "* Turtlesim 실행(각각 새 터미널에서 해줘야한다.)\n",
    "    * roscore\n",
    "    * ctrl + shift + t\n",
    "    * rosrun turtlesim turtlesim_node\n",
    "    * ctrl + shift + t\n",
    "    * rosrun turtlesim turtle_teleop_key\n",
    "    * rosrun rqt_graph rqt_graph"
   ]
  }
 ],
 "metadata": {
  "kernelspec": {
   "display_name": "Python 2",
   "language": "python",
   "name": "python2"
  },
  "language_info": {
   "codemirror_mode": {
    "name": "ipython",
    "version": 2
   },
   "file_extension": ".py",
   "mimetype": "text/x-python",
   "name": "python",
   "nbconvert_exporter": "python",
   "pygments_lexer": "ipython2",
   "version": "2.7.12"
  }
 },
 "nbformat": 4,
 "nbformat_minor": 2
}
