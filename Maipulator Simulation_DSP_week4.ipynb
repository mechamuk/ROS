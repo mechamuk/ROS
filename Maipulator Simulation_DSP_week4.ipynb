{
 "cells": [
  {
   "cell_type": "markdown",
   "metadata": {},
   "source": [
    "# Maipulator Simulation\n",
    "* Articulated 3R\n",
    "* OpenManipulator-X"
   ]
  },
  {
   "cell_type": "markdown",
   "metadata": {},
   "source": [
    "## Manipulator\n",
    "* 기저(base). 고정되어있는 부분\n",
    "* 링크(link). 기저, 관절, 말단장치를 연결하는 부분\n",
    "* 관절(joint). 움직임을 만들어내는 부분. 회전운동향, 병진운동형\n",
    "* 말단장치(end effector). 사람의 손에 해당하는 부분"
   ]
  },
  {
   "cell_type": "raw",
   "metadata": {},
   "source": [
    "#mobil it?이라는 프로그램 설치\n",
    "sudo apt install ros-kinetic-roscontrollers ros-kinetic-gazebo* ros kinetic-moveit* ros kinetic-omdustrial-core"
   ]
  },
  {
   "cell_type": "raw",
   "metadata": {},
   "source": [
    "#gazebo에서 Open Manipulator 실행\n",
    "#cd ~/catkin_ws/src\n",
    "git clone https://github.com/ROBOTIS-GIT/DynamixelSDK.git\n",
    "git clone https://github.com/ROBOTIS-GIT/dynamixel-workbench.git\n",
    "git clone https://github.com/ROBOTIS-GIT/dynamixel-workbench-msgs.git\n",
    "git clone https://github.com/ROBOTIS-GIT/open_manipulator.git\n",
    "git clone https://github.com/ROBOTIS-GIT/open_manipulator_msgs.git\n",
    "git clone https://github.com/ROBOTIS-GIT/open_manipulator_simulations.git\n",
    "git clone https://github.com/ROBOTIS-GIT/robotis_manipulator.git"
   ]
  },
  {
   "cell_type": "raw",
   "metadata": {},
   "source": [
    "#Gazebo에서 Open Manilupator 실행\n",
    "#cd ~/catkin_Ws && catkin_make\n",
    "roslaunch open_manipulator_gazeboopen_manipulator_gazebo.launch"
   ]
  },
  {
   "cell_type": "raw",
   "metadata": {},
   "source": [
    "#키보드로 조작\n",
    "roslaunch open_manipulator_teleop open manipulator_teleop_keyboard.launch"
   ]
  },
  {
   "cell_type": "raw",
   "metadata": {},
   "source": [
    "gazebo start, GUI start\n",
    "값 바꾸고 send로 움직이기"
   ]
  },
  {
   "cell_type": "raw",
   "metadata": {},
   "source": [
    "HW.\n",
    "세타값 변화시켜서 로봇팔 움직이기\n",
    "역기구학처럼 좌표갑 줘서 모터 각 관절 움직이는 것\n",
    "각각 GUI와 키보드에서 실행"
   ]
  }
 ],
 "metadata": {
  "hide_input": false,
  "kernelspec": {
   "display_name": "Python 3",
   "language": "python",
   "name": "python3"
  },
  "language_info": {
   "codemirror_mode": {
    "name": "ipython",
    "version": 3
   },
   "file_extension": ".py",
   "mimetype": "text/x-python",
   "name": "python",
   "nbconvert_exporter": "python",
   "pygments_lexer": "ipython3",
   "version": "3.7.6"
  },
  "toc": {
   "base_numbering": 1,
   "nav_menu": {},
   "number_sections": true,
   "sideBar": true,
   "skip_h1_title": false,
   "title_cell": "Table of Contents",
   "title_sidebar": "Contents",
   "toc_cell": false,
   "toc_position": {},
   "toc_section_display": true,
   "toc_window_display": false
  }
 },
 "nbformat": 4,
 "nbformat_minor": 4
}
