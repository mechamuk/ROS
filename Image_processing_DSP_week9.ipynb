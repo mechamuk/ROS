{
 "cells": [
  {
   "cell_type": "markdown",
   "metadata": {},
   "source": [
    "# OpenCV\n",
    "* 설치\n"
   ]
  },
  {
   "cell_type": "markdown",
   "metadata": {},
   "source": [
    "# Image Processing. 실습 1"
   ]
  },
  {
   "cell_type": "markdown",
   "metadata": {},
   "source": [
    "* 마스터 실행\n",
    "    * roscore\n",
    "* 터틀봇 실행\n",
    "    * roslaunch turtlebot3_gazebo turtlebot3_world.launch\n",
    "* rviz 실행\n",
    "    * roslaunch turtlebot3_gazebo turtlebot3_gazebo_rviz.launch\n",
    "* rviz에서 camera 실행"
   ]
  },
  {
   "cell_type": "markdown",
   "metadata": {},
   "source": [
    "# Raspberry Pi"
   ]
  },
  {
   "cell_type": "markdown",
   "metadata": {},
   "source": [
    "* camera launch\n",
    "    * rqt_image_view\n"
   ]
  },
  {
   "cell_type": "markdown",
   "metadata": {},
   "source": [
    "# Camera"
   ]
  },
  {
   "cell_type": "markdown",
   "metadata": {},
   "source": [
    "    * cd ~/catkin_ws\n",
    "    * git clone https://github.com/introlab/find-object.git src/find_object_2d\n",
    "    * catkin_make"
   ]
  },
  {
   "cell_type": "markdown",
   "metadata": {},
   "source": [
    "    * rosrun image_transport republish compressed in:=/raspicam_node/image raw out:=raspicam_node/image\n",
    "    * rosrun find_object_2d find_object_2d image:=raspicam_node/image"
   ]
  },
  {
   "cell_type": "markdown",
   "metadata": {},
   "source": [
    "* https://github.com/ctanakul/object_color_detection_ros_opencv 에서 다운\n",
    "* catkin_ws/src/에 저장\n",
    "* 노드 연결은 rqt_graph에서 확인\n",
    "    * rqt_graph"
   ]
  },
  {
   "cell_type": "markdown",
   "metadata": {},
   "source": [
    "    * (catkin_ws) catkin_make\n",
    "    * rosrun sawyer_catching_ball_2 detect_color"
   ]
  },
  {
   "cell_type": "markdown",
   "metadata": {},
   "source": [
    "# hw\n",
    "* rviz에서 카메라 확인\n",
    "* gazebo에서 두 가지 물체를 놓고 빨간 색을 인식시키기"
   ]
  },
  {
   "cell_type": "markdown",
   "metadata": {},
   "source": [
    "# hw2\n",
    "* 실행\n",
    "    * roscore\n",
    "    * roslaunch turtlebot3_manipulation_gazebo turtlebot3_manipulation_gazebo.launch\n",
    "    * roslaunch turtlebot3_gazebo turtlebot3_gazebo_rviz.launch\n",
    "    * rosrun sawyer_catching_ball_2 detect_color\n",
    "    * roslaunch turtlebot3_teleop turtlebot3_teleop_key.launch\n",
    "\n"
   ]
  }
 ],
 "metadata": {
  "kernelspec": {
   "display_name": "Python 3",
   "language": "python",
   "name": "python3"
  },
  "language_info": {
   "codemirror_mode": {
    "name": "ipython",
    "version": 3
   },
   "file_extension": ".py",
   "mimetype": "text/x-python",
   "name": "python",
   "nbconvert_exporter": "python",
   "pygments_lexer": "ipython3",
   "version": "3.7.7"
  }
 },
 "nbformat": 4,
 "nbformat_minor": 4
}
